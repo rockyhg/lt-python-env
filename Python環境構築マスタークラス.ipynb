{
 "cells": [
  {
   "cell_type": "markdown",
   "metadata": {},
   "source": [
    "# Python環境構築マスタークラス"
   ]
  },
  {
   "cell_type": "markdown",
   "metadata": {},
   "source": [
    "## 1. イントロダクション"
   ]
  },
  {
   "cell_type": "markdown",
   "metadata": {},
   "source": [
    "### 1.1 本日の内容\n",
    "- VS Codeのセットアップ\n",
    "- 環境管理ツール (venv) の導入\n",
    "- FastAPI動作確認"
   ]
  },
  {
   "cell_type": "markdown",
   "metadata": {},
   "source": [
    "### 1.2 皆さんの準備状況の確認\n",
    "#### Pythonインストール\n",
    "- [Python公式ページ](https://www.python.org/)\n",
    "  - ほとんどの方は `Windows installer (64-bit)` をダウンロード → インストール\n",
    "- 【参考】Google Colab の Python のバージョンに合わせた → Python 3.10.11\n",
    "- インストール画面での設定: `Add python.exe to PATH` にチェックを入れる\n",
    "  - ![Install Python for Windows](./image/install_python_win.png)\n",
    "\n",
    "\n",
    "- 「設定 > アプリ実行エイリアス」で、`アプリインストーラー` をオフにする\n",
    "  - ![alias_settings.png](./image/alias_settings.png)\n",
    "  - ▲これを設定しないと、pythonコマンドを実行してもMicrosoft Storeが開いてしまう"
   ]
  },
  {
   "cell_type": "code",
   "execution_count": 1,
   "metadata": {},
   "outputs": [
    {
     "name": "stdout",
     "output_type": "stream",
     "text": [
      "Python 3.10.11\n"
     ]
    }
   ],
   "source": [
    "!python -V"
   ]
  },
  {
   "cell_type": "markdown",
   "metadata": {},
   "source": [
    "#### VS Codeインストール\n",
    "[Visual Studio Code公式ページ](https://azure.microsoft.com/ja-jp/products/visual-studio-code/)"
   ]
  },
  {
   "cell_type": "markdown",
   "metadata": {},
   "source": [
    "## 2. VS Codeのセットアップ\n",
    "### 2.1 VS Codeの基本設定\n",
    "- 拡張機能\n",
    "  - [Visual Studio Codeに入れるべき拡張機能【2023年最新版】 - Qiita](https://qiita.us5.list-manage.com/track/click?u=e220ac811523723b60d055c87&id=e6660f5f97&e=afe4815717)\n",
    "  - Japanese Language Pack\n",
    "  - Python\n",
    "  - Pylance\n",
    "  - Jupyter\n",
    "  - IntelliCode\n",
    "  - Codium\n",
    "- ショートカットキー\n",
    "  - [VS Code チートシート（ショートカットキー）](https://camo.qiitausercontent.com/8e7b0b88be526969f856b75f97e05b23516f0d72/68747470733a2f2f71696974612d696d6167652d73746f72652e73332e616d617a6f6e6177732e636f6d2f302f38313534382f30353238666333382d376132312d353665622d313331612d3562636663643866363965312e706e67)\n",
    "  - `Alt + ↑ / ↓`: 行の上下移動\n",
    "  - `Shift + Alt + ↑ / ↓`: 現在の行をコピーして上下にペースト\n",
    "  - `Ctrl + Shift + K`: 現在の行を削除\n",
    "  - `Ctrl + Enter`: 現在の行の下に新しい行を挿入\n",
    "  - `Ctrl + ] / [`: インデントの増減\n"
   ]
  },
  {
   "cell_type": "markdown",
   "metadata": {},
   "source": [
    "### 2.2 基本的なPythonプロジェクトの作成\n",
    "1. 新しいフォルダを作成\n",
    "   - 例: C:\\work\\myProject1\n",
    "2. 新規Pythonファイルを作成\n",
    "   - 例: main.py"
   ]
  },
  {
   "cell_type": "markdown",
   "metadata": {},
   "source": [
    "## 3. 環境管理ツール (venv) の導入"
   ]
  },
  {
   "cell_type": "markdown",
   "metadata": {},
   "source": []
  },
  {
   "cell_type": "markdown",
   "metadata": {},
   "source": [
    "## 4. FastAPI動作確認"
   ]
  },
  {
   "cell_type": "markdown",
   "metadata": {},
   "source": []
  },
  {
   "cell_type": "markdown",
   "metadata": {},
   "source": [
    "## 5. まとめ\n",
    "★環境構築の勢力図\n",
    "\n",
    "今回は、最も**標準的で多くのプロジェクトで使用されている実践的な方法**を再構成してお伝えしました。ちなみにキカガクの「Pythonアプリ開発コース」でも紹介されています。"
   ]
  },
  {
   "cell_type": "markdown",
   "metadata": {},
   "source": []
  }
 ],
 "metadata": {
  "kernelspec": {
   "display_name": ".venv",
   "language": "python",
   "name": "python3"
  },
  "language_info": {
   "codemirror_mode": {
    "name": "ipython",
    "version": 3
   },
   "file_extension": ".py",
   "mimetype": "text/x-python",
   "name": "python",
   "nbconvert_exporter": "python",
   "pygments_lexer": "ipython3",
   "version": "3.10.11"
  }
 },
 "nbformat": 4,
 "nbformat_minor": 2
}
