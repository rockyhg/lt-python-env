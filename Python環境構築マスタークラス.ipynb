{
 "cells": [
  {
   "cell_type": "markdown",
   "metadata": {},
   "source": [
    "# Python環境構築マスタークラス"
   ]
  },
  {
   "cell_type": "markdown",
   "metadata": {},
   "source": [
    "## 1. イントロダクション"
   ]
  },
  {
   "cell_type": "markdown",
   "metadata": {},
   "source": [
    "### 1.1 本日の内容\n",
    "- VS Codeのセットアップ\n",
    "- 環境管理ツール (venv) の導入\n",
    "- FastAPI動作確認"
   ]
  },
  {
   "cell_type": "markdown",
   "metadata": {},
   "source": [
    "### 1.2 皆さんの準備状況の確認\n",
    "#### 1.2.1 Pythonインストール\n",
    "- [Python公式ページ](https://www.python.org/)\n",
    "  - ほとんどの方は `Windows installer (64-bit)` をダウンロード → インストール\n",
    "- 【参考】Google Colab の Python のバージョンに合わせた → Python 3.10.11\n",
    "- インストール画面での設定: `Add python.exe to PATH` にチェックを入れる\n",
    "  - ![Install Python for Windows](./image/install_python_win.png)\n",
    "\n",
    "\n",
    "- 「設定 > アプリ実行エイリアス」で、`アプリインストーラー` をオフにする\n",
    "  - ![alias_settings.png](./image/alias_settings.png)\n",
    "  - ▲これを設定しないと、pythonコマンドを実行してもMicrosoft Storeが開いてしまう"
   ]
  },
  {
   "cell_type": "code",
   "execution_count": null,
   "metadata": {},
   "outputs": [],
   "source": [
    "!python -V"
   ]
  },
  {
   "cell_type": "markdown",
   "metadata": {},
   "source": [
    "#### 1.2.2 VS Codeインストール\n",
    "[Visual Studio Code公式ページ](https://azure.microsoft.com/ja-jp/products/visual-studio-code/)"
   ]
  },
  {
   "cell_type": "markdown",
   "metadata": {},
   "source": [
    "## 2. VS Codeのセットアップ\n",
    "### 2.1 VS Codeの基本設定\n",
    "- 拡張機能\n",
    "  - [Visual Studio Codeに入れるべき拡張機能【2023年最新版】 - Qiita](https://qiita.us5.list-manage.com/track/click?u=e220ac811523723b60d055c87&id=e6660f5f97&e=afe4815717)\n",
    "  - Japanese Language Pack\n",
    "  - Python\n",
    "  - Pylance\n",
    "  - Jupyter\n",
    "  - IntelliCode\n",
    "  - Codium など\n",
    "- ショートカットキー\n",
    "  - [VS Code チートシート（ショートカットキー）](https://camo.qiitausercontent.com/8e7b0b88be526969f856b75f97e05b23516f0d72/68747470733a2f2f71696974612d696d6167652d73746f72652e73332e616d617a6f6e6177732e636f6d2f302f38313534382f30353238666333382d376132312d353665622d313331612d3562636663643866363965312e706e67)\n",
    "  - `Alt + ↑ / ↓`: 行の上下移動\n",
    "  - `Shift + Alt + ↑ / ↓`: 現在の行をコピーして上下にペースト\n",
    "  - `Ctrl + Shift + K`: 現在の行を削除\n",
    "  - `Ctrl + Enter`: 現在の行の下に新しい行を挿入\n",
    "  - `Ctrl + ] / [`: インデントの増減\n"
   ]
  },
  {
   "cell_type": "markdown",
   "metadata": {},
   "source": [
    "### 2.2 基本的なPythonプロジェクトの作成\n",
    "1. 新しいフォルダを作成する\n",
    "   - 例: `C:\\work\\myProject1`\n",
    "2. VS Code で上記フォルダを開く\n",
    "   - フォルダをドラッグ＆ドロップ\n",
    "   - または [ファイル] > [フォルダーを開く...]\n",
    "3. 新規Pythonファイル (`test.py`) を作成する"
   ]
  },
  {
   "cell_type": "code",
   "execution_count": null,
   "metadata": {},
   "outputs": [],
   "source": [
    "# test.py\n",
    "print(\"Hello, World!\")"
   ]
  },
  {
   "cell_type": "markdown",
   "metadata": {},
   "source": [
    "4. test.py を実行する\n",
    "   - メニューから実行: [実行] > [デバッグなしで実行]"
   ]
  },
  {
   "cell_type": "markdown",
   "metadata": {},
   "source": [
    "## 3. 環境管理ツール (venv) の導入\n",
    "### 3.1 仮想環境の基本\n",
    "[Python仮想環境の説明 | ChatGPT](https://chat.openai.com/share/aab767b8-d2e8-4b95-82da-798f6875c535)\n",
    "> **仮想環境とは何か:**\n",
    "> 仮想環境は、Pythonのプロジェクトごとに異なるライブラリやパッケージのバージョンを管理するための独立した環境です。これにより、異なるプロジェクト間での依存関係の競合を防ぐことができます。\n",
    "> \n",
    "> **なぜ仮想環境が必要か:**\n",
    "> 異なるプロジェクトは、異なるライブラリのバージョンを必要とすることがあります。一つのシステム上でこれらの異なる要求をすべて満たそうとすると、競合が発生し、プロジェクトが正しく動作しなくなる可能性があります。仮想環境を使用することで、プロジェクトごとに独立した環境を持つことができ、このような問題を防ぐことができます。"
   ]
  },
  {
   "cell_type": "markdown",
   "metadata": {},
   "source": [
    "### 3.2 仮想環境の作成\n",
    "1. VS Codeのターミナルを起動\n",
    "   - `Ctrl + J`\n",
    "2. 仮想環境を作成する（以下のコマンドを実行）\n",
    "\t- `python -m venv .venv`\n",
    "3. 仮想環境のアクティベートする\n",
    "   - Windowsの場合:\n",
    "     - Power Shell: `.venv\\Scripts\\Activate.ps1`\n",
    "       - エラーが出る場合はターミナルを Command Prompt に切り替えて以下のコマンドを実行\n",
    "     - Command Prompt: `.venv\\Scripts\\activate.bat`\n",
    "   - Macの場合:\n",
    "     - `source .venv/bin/activate`\n",
    "- 【参考】仮想環境を終了する\n",
    "  - `deactivate`"
   ]
  },
  {
   "cell_type": "markdown",
   "metadata": {},
   "source": [
    "### 3.3 パッケージ管理\n",
    "#### 3.3.1 pipを使用したパッケージのインストール\n",
    "1. 仮想環境をアクティベートする\n",
    "   - Power Shell: `.venv\\Scripts\\Activate.ps1`\n",
    "   - Command Prompt: `.venv\\Scripts\\activate.bat`\n",
    "   - Mac: `source .venv/bin/activate`\n",
    "2. pip コマンドを実行する\n",
    "   - `pip install <パッケージ名>`\n",
    "   - 例: `pip install numpy`"
   ]
  },
  {
   "cell_type": "markdown",
   "metadata": {},
   "source": [
    "#### 3.3.2 requirements.txtの作成と使用:\n",
    "- `requirements.txt` ファイルの役割\n",
    "  - プロジェクトが正しく動作するために必要な外部のパッケージやライブラリ（これらを依存関係と呼ぶ）の明確化\n",
    "  - リストに記載された全ての依存関係を一括でインストールできる\n",
    "  - 再現性の保証\n",
    "  - デプロイの効率化\n",
    "\n",
    "1. 仮想環境をアクティベートする\n",
    "2. `requirements.txt` に、必要なライブラリを記述する\n",
    "   - 例:\n",
    "     ```\n",
    "     numpy\n",
    "     pandas\n",
    "     matplotlib\n",
    "     fastapi\n",
    "     uvicorn\n",
    "     ```\n",
    "3. pip コマンドを実行する\n",
    "   - `pip install -r requirements.txt`"
   ]
  },
  {
   "cell_type": "markdown",
   "metadata": {},
   "source": [
    "## 4. FastAPI動作確認\n",
    "1. 仮想環境をアクティベートする\n",
    "2. `uvicorn` と `fastapi` をインストールする\n",
    "3. `main.py` を作成"
   ]
  },
  {
   "cell_type": "code",
   "execution_count": null,
   "metadata": {},
   "outputs": [],
   "source": [
    "from fastapi import FastAPI\n",
    "\n",
    "app = FastAPI()\n",
    "\n",
    "\n",
    "@app.get(\"/\")\n",
    "def read_root():\n",
    "    return {\"message\": \"Hello World\"}"
   ]
  },
  {
   "cell_type": "markdown",
   "metadata": {},
   "source": [
    "3. `uvicorn main:app --reload` を実行\n",
    "   - うまくいかない場合、先頭に `python -m ` を付ける\n",
    "   - `python -m uvicorn main:app --reload`"
   ]
  },
  {
   "cell_type": "raw",
   "metadata": {},
   "source": [
    "uvicorn main:app --reload"
   ]
  },
  {
   "cell_type": "markdown",
   "metadata": {},
   "source": [
    "4. ブラウザで [http://127.0.0.1:8000/](http://127.0.0.1:8000/) にアクセスする  \n",
    "   → `{\"message\": \"Hello World\"}` と表示される"
   ]
  },
  {
   "cell_type": "markdown",
   "metadata": {},
   "source": [
    "## 6. まとめ\n",
    "### 6.1 環境構築の流れ\n",
    "1. プロジェクトのフォルダを作成\n",
    "2. VS Codeでフォルダを開く\n",
    "3. 仮想環境作成\n",
    "4. 仮想環境をアクティベート\n",
    "5. requirements.txt を作成\n",
    "6. pipインストール\n",
    "7. 開発 ...\n",
    "\n",
    "### 6.2 さいごに\n",
    "今回は、最も**標準的で多くのプロジェクトで使用されている実践的な方法**をお伝えしました。\n",
    "\n",
    "今回説明しなかった方法:\n",
    "- Git/GitHub【必須】\n",
    "- Pythonバージョン管理 (pyenv) 【おすすめ】\n",
    "  - 複数のPythonバージョンを管理し、プロジェクトごとに異なるバージョンに切り替えることが可能\n",
    "  - 大規模なプロジェクトや複数のPythonバージョンを使用する場合に適している\n",
    "- コンテナ化 (Docker) 【学習コスト大】\n",
    "  - Dockerを使用してPython環境をコンテナ化し、OSレベルで隔離された環境を提供\n",
    "  - 開発、テスト、本番環境間での環境の一貫性を保証し、依存関係の衝突を防ぎます\n",
    "- Anaconda/Miniconda【おすすめしない】\n",
    "  - Anaconda環境で`pip`を使うと両者が競合が発生する場合がある\n",
    "  - デプロイ先の環境でAnacondaが利用できないことが多い\n"
   ]
  }
 ],
 "metadata": {
  "kernelspec": {
   "display_name": ".venv",
   "language": "python",
   "name": "python3"
  },
  "language_info": {
   "codemirror_mode": {
    "name": "ipython",
    "version": 3
   },
   "file_extension": ".py",
   "mimetype": "text/x-python",
   "name": "python",
   "nbconvert_exporter": "python",
   "pygments_lexer": "ipython3",
   "version": "3.10.11"
  }
 },
 "nbformat": 4,
 "nbformat_minor": 2
}
