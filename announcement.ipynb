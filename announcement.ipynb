{
 "cells": [
  {
   "cell_type": "markdown",
   "metadata": {},
   "source": [
    "# ✨【お知らせ】Python環境構築マスタークラス✨"
   ]
  },
  {
   "cell_type": "markdown",
   "metadata": {},
   "source": [
    "## 📅日時: 2023-12-21(木) ⏱️約50分間\n",
    "**（📍アプリヒアリングの裏で実施します）**"
   ]
  },
  {
   "cell_type": "markdown",
   "metadata": {},
   "source": [
    "## 🚀背景と目的\n",
    "最終課題に向けて、環境構築でのつまずきを解消し、スムーズにアプリ開発に入れるようにサポートします。"
   ]
  },
  {
   "cell_type": "markdown",
   "metadata": {},
   "source": [
    "## 👥対象者\n",
    "- 最終課題でアプリを開発したい方\n",
    "- 実務レベルの環境構築スキルを身につけたい方"
   ]
  },
  {
   "cell_type": "markdown",
   "metadata": {},
   "source": [
    "## 📘講義内容\n",
    "1. VS Codeのセットアップ\n",
    "2. 環境管理ツール (venv) の導入\n",
    "3. FastAPI動作確認\n",
    "4. 開発の進め方（時間が許せば）\n",
    "\n",
    "**🔥特典: ハンズオン形式で実施！実際に手を動かして学び、その場で環境構築が完了します！**\n"
   ]
  },
  {
   "cell_type": "markdown",
   "metadata": {},
   "source": [
    "## 📌事前準備\n",
    "- VS CodeとPythonのインストール"
   ]
  },
  {
   "cell_type": "markdown",
   "metadata": {},
   "source": [
    "この機会に環境構築を終わらせて、アプリ開発の第一歩を踏み出しましょう。\n",
    "皆さんの参加をお待ちしています！"
   ]
  },
  {
   "cell_type": "markdown",
   "metadata": {},
   "source": []
  }
 ],
 "metadata": {
  "kernelspec": {
   "display_name": ".venv",
   "language": "python",
   "name": "python3"
  },
  "language_info": {
   "name": "python",
   "version": "3.10.11"
  }
 },
 "nbformat": 4,
 "nbformat_minor": 2
}
